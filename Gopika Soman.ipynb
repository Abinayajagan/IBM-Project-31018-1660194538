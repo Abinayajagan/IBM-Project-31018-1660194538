{
  "nbformat": 4,
  "nbformat_minor": 0,
  "metadata": {
    "colab": {
      "provenance": [],
      "authorship_tag": "ABX9TyMN9ynerdwkQIp0xsm9l9cr",
      "include_colab_link": true
    },
    "kernelspec": {
      "name": "python3",
      "display_name": "Python 3"
    },
    "language_info": {
      "name": "python"
    }
  },
  "cells": [
    {
      "cell_type": "markdown",
      "metadata": {
        "id": "view-in-github",
        "colab_type": "text"
      },
      "source": [
        "<a href=\"https://colab.research.google.com/github/IBM-EPBL/IBM-Project-31018-1660194538/blob/main/Gopika%20Soman.ipynb\" target=\"_parent\"><img src=\"https://colab.research.google.com/assets/colab-badge.svg\" alt=\"Open In Colab\"/></a>"
      ]
    },
    {
      "cell_type": "code",
      "execution_count": null,
      "metadata": {
        "colab": {
          "base_uri": "https://localhost:8080/"
        },
        "id": "kj-DyaRUDIHX",
        "outputId": "dbfa8622-1f9b-488a-a8b0-64585e4bc11d"
      },
      "outputs": [
        {
          "output_type": "stream",
          "name": "stdout",
          "text": [
            "11 is a prime number\n",
            "11 is a prime number\n",
            "11 is a prime number\n",
            "11 is a prime number\n",
            "11 is not a prime number\n"
          ]
        }
      ],
      "source": [
        "num=11\n",
        "#if given number is greaater than 1\n",
        "if num>1:\n",
        "  #iterate from 2 to n/2\n",
        "  for i in range(2, int(num/2)+1):\n",
        "    #if num is divisible by any number between \n",
        "    #2 and n/2, it is not prime\n",
        "    if(num%i)==0:\n",
        "      print(num, \"is not a prime number\")\n",
        "      break\n",
        "    else:\n",
        "      print(num, \"is a prime number\")\n",
        "  else:\n",
        "    print(num, \"is not a prime number\")\n",
        "    \n"
      ]
    },
    {
      "cell_type": "code",
      "source": [
        "# Python Program to Print Odd Numbers from 1 to N using while loop\n",
        "\n",
        "num = int(input(\" Please Enter the Maximum Value : \"))\n",
        "\n",
        "number = 1\n",
        "\n",
        "while number <= num:\n",
        "    if(number % 2 != 0):\n",
        "        print(\"{0}\".format(number))\n",
        "    number = number + 1"
      ],
      "metadata": {
        "colab": {
          "base_uri": "https://localhost:8080/"
        },
        "id": "q0oRJeTanEre",
        "outputId": "2e18d699-c574-4acf-93f9-e43795a0d4bb"
      },
      "execution_count": 8,
      "outputs": [
        {
          "output_type": "stream",
          "name": "stdout",
          "text": [
            " Please Enter the Maximum Value : 8\n",
            "1\n",
            "3\n",
            "5\n",
            "7\n"
          ]
        }
      ]
    },
    {
      "cell_type": "code",
      "source": [
        "#Read user input\n",
        "min = int(input(\"Enter the min : \"))\n",
        "max = int(input(\"Enter the max : \"))\n",
        "\n",
        "for n in range(min,max + 1):\n",
        "   if n > 1:\n",
        "       for i in range(2,n):\n",
        "           if (n % i) == 0:\n",
        "               break\n",
        "       else:\n",
        "           print(n)"
      ],
      "metadata": {
        "id": "9U106mlM56HS",
        "outputId": "9884a509-f357-4d94-c50a-7691ea984727",
        "colab": {
          "base_uri": "https://localhost:8080/"
        }
      },
      "execution_count": 10,
      "outputs": [
        {
          "output_type": "stream",
          "name": "stdout",
          "text": [
            "Enter the min : 2\n",
            "Enter the max : 9\n",
            "2\n",
            "3\n",
            "5\n",
            "7\n"
          ]
        }
      ]
    }
  ]
}